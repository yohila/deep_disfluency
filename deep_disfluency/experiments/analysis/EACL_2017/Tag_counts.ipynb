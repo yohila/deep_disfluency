{
 "cells": [
  {
   "cell_type": "code",
   "execution_count": 15,
   "metadata": {
    "collapsed": false
   },
   "outputs": [],
   "source": [
    "from __future__ import division\n",
    "import sys\n",
    "from collections import defaultdict\n",
    "import matplotlib.pyplot as plt\n",
    "\n",
    "from copy import deepcopy\n",
    "sys.path.append(\"../../../../\")"
   ]
  },
  {
   "cell_type": "code",
   "execution_count": 2,
   "metadata": {
    "collapsed": true
   },
   "outputs": [],
   "source": [
    "from deep_disfluency.evaluation.eval_utils import get_tag_data_from_corpus_file"
   ]
  },
  {
   "cell_type": "code",
   "execution_count": 4,
   "metadata": {
    "collapsed": false
   },
   "outputs": [
    {
     "name": "stdout",
     "output_type": "stream",
     "text": [
      "loading data ../../../data/disfluency_detection/switchboard/swbd_disf_train_1_data_timings.csv\n",
      "loaded 992 sequences\n"
     ]
    }
   ],
   "source": [
    "disf_file = \"../../../data/disfluency_detection/switchboard/swbd_disf_train_1_data_timings.csv\"\n",
    "IDs, timings, words, pos_tags, labels = get_tag_data_from_corpus_file(disf_file)"
   ]
  },
  {
   "cell_type": "code",
   "execution_count": 10,
   "metadata": {
    "collapsed": false
   },
   "outputs": [],
   "source": [
    "tags= {\"<tt/>\" : 0,\n",
    "      \"<tc/>\" : 0,\n",
    "      \"<ct/>\": 0,\n",
    "      \"<cc/>\" :0}\n",
    "\n",
    "for l in labels:\n",
    "    for label in l:\n",
    "        for t in tags.keys():\n",
    "            if t in label:\n",
    "                tags[t]+=1"
   ]
  },
  {
   "cell_type": "code",
   "execution_count": 11,
   "metadata": {
    "collapsed": false
   },
   "outputs": [
    {
     "data": {
      "text/plain": [
       "{'<cc/>': 493255, '<ct/>': 64556, '<tc/>': 64556, '<tt/>': 25941}"
      ]
     },
     "execution_count": 11,
     "metadata": {},
     "output_type": "execute_result"
    }
   ],
   "source": [
    "tags"
   ]
  },
  {
   "cell_type": "code",
   "execution_count": 12,
   "metadata": {
    "collapsed": true
   },
   "outputs": [],
   "source": [
    "total_words = sum(tags.values())"
   ]
  },
  {
   "cell_type": "code",
   "execution_count": 13,
   "metadata": {
    "collapsed": false
   },
   "outputs": [
    {
     "data": {
      "text/plain": [
       "648308"
      ]
     },
     "execution_count": 13,
     "metadata": {},
     "output_type": "execute_result"
    }
   ],
   "source": [
    "total_words"
   ]
  },
  {
   "cell_type": "code",
   "execution_count": 19,
   "metadata": {
    "collapsed": false
   },
   "outputs": [
    {
     "name": "stdout",
     "output_type": "stream",
     "text": [
      "<cc/> 493255 76.083435651\n",
      "<ct/> 64556 9.95761273962\n",
      "<tc/> 64556 9.95761273962\n",
      "<tt/> 25941 4.0013388698\n"
     ]
    }
   ],
   "source": [
    "for t, v in sorted(tags.items(), key=lambda x:x[0], reverse=False):\n",
    "    print t, v, v/total_words * 100\n"
   ]
  },
  {
   "cell_type": "code",
   "execution_count": null,
   "metadata": {
    "collapsed": true
   },
   "outputs": [],
   "source": []
  }
 ],
 "metadata": {
  "kernelspec": {
   "display_name": "Python 2",
   "language": "python",
   "name": "python2"
  },
  "language_info": {
   "codemirror_mode": {
    "name": "ipython",
    "version": 2
   },
   "file_extension": ".py",
   "mimetype": "text/x-python",
   "name": "python",
   "nbconvert_exporter": "python",
   "pygments_lexer": "ipython2",
   "version": "2.7.12"
  }
 },
 "nbformat": 4,
 "nbformat_minor": 1
}
