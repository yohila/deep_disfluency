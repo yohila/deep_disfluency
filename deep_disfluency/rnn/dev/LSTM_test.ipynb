{
 "cells": [
  {
   "cell_type": "code",
   "execution_count": 1,
   "metadata": {
    "collapsed": true
   },
   "outputs": [],
   "source": [
    "from lstm import Lstm, LstmMiniBatch\n",
    "import theano.tensor as T"
   ]
  },
  {
   "cell_type": "code",
   "execution_count": 2,
   "metadata": {
    "collapsed": true
   },
   "outputs": [],
   "source": [
    "s = {'emb_dimension' : 50,\n",
    "    'n_hidden' : 100,\n",
    "    'n_out' : 27, \n",
    "    'window' : 2,\n",
    "    'lr' : 0.005}\n",
    "possize = 100\n",
    "vocsize = 9000\n",
    "nclasses = 27"
   ]
  },
  {
   "cell_type": "code",
   "execution_count": 3,
   "metadata": {
    "collapsed": false
   },
   "outputs": [],
   "source": [
    "lstm = Lstm(ne = vocsize,\n",
    "                   de = s['emb_dimension'],\n",
    "                   n_lstm = s['n_hidden'],\n",
    "                   n_out = nclasses, \n",
    "                   cs = s['window'],\n",
    "                   npos = possize, \n",
    "                   lr=s['lr'], \n",
    "                   single_output=True, \n",
    "                   output_activation=T.nnet.softmax, \n",
    "                   cost_function='nll')"
   ]
  },
  {
   "cell_type": "code",
   "execution_count": null,
   "metadata": {
    "collapsed": true
   },
   "outputs": [],
   "source": []
  }
 ],
 "metadata": {
  "kernelspec": {
   "display_name": "Python 2",
   "language": "python",
   "name": "python2"
  },
  "language_info": {
   "codemirror_mode": {
    "name": "ipython",
    "version": 2
   },
   "file_extension": ".py",
   "mimetype": "text/x-python",
   "name": "python",
   "nbconvert_exporter": "python",
   "pygments_lexer": "ipython2",
   "version": "2.7.6"
  }
 },
 "nbformat": 4,
 "nbformat_minor": 0
}
