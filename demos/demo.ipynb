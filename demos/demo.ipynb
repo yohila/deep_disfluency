{
 "cells": [
  {
   "cell_type": "code",
   "execution_count": 1,
   "metadata": {
    "collapsed": false
   },
   "outputs": [
    {
     "name": "stdout",
     "output_type": "stream",
     "text": [
      "no installed deep_disfluency package, pathing to source\n"
     ]
    }
   ],
   "source": [
    "try:\n",
    "    import deep_disfluency\n",
    "except ImportError:\n",
    "    print \"no installed deep_disfluency package, pathing to source\"\n",
    "    import sys\n",
    "    sys.path.append(\"../\")\n",
    "from deep_disfluency.tagger.deep_tagger import DeepDisfluencyTagger"
   ]
  },
  {
   "cell_type": "code",
   "execution_count": 2,
   "metadata": {
    "collapsed": false
   },
   "outputs": [
    {
     "name": "stdout",
     "output_type": "stream",
     "text": [
      "1. Disfluency tagging on pre-segmented utterances\n",
      "tags repair structure incrementally and other edit terms <e/>\n",
      "(Hough and Schlangen Interspeech 2015 with an RNN)\n",
      "\n",
      "Initializing Tagger\n",
      "Processing args from config number 21 ...\n",
      "Intializing model from args...\n",
      "Using the cpu\n",
      "Warning: not using GPU, might be a bit slow\n",
      "\tAdjust Theano config file ($HOME/.theanorc)\n",
      "loading tag to index maps...\n",
      "Initializing model of type elman ...\n",
      "Loading saved weights from ../deep_disfluency/experiments/021/epoch_40\n",
      "No POS tagger specified,loading default CRF switchboard one\n",
      "Not using timing data\n",
      "Loading decoder...\n",
      "loading swbd_disf1_021 Markov model\n",
      "No timing model given\n",
      "Markov Model ready mode:\n",
      "constraint only\n"
     ]
    }
   ],
   "source": [
    "# Initialize the tagger from the config file with a config number\n",
    "# and saved model directory\n",
    "MESSAGE = \"\"\"1. Disfluency tagging on pre-segmented utterances\n",
    "tags repair structure incrementally and other edit terms <e/>\n",
    "(Hough and Schlangen Interspeech 2015 with an RNN)\n",
    "\"\"\"\n",
    "print MESSAGE\n",
    "disf = DeepDisfluencyTagger(\n",
    "    config_file=\"../deep_disfluency/experiments/experiment_configs.csv\",\n",
    "    config_number=21,\n",
    "    saved_model_dir=\"../deep_disfluency/experiments/021/epoch_40\"\n",
    "    )"
   ]
  },
  {
   "cell_type": "code",
   "execution_count": 3,
   "metadata": {
    "collapsed": false
   },
   "outputs": [
    {
     "name": "stdout",
     "output_type": "stream",
     "text": [
      "tagging...\n",
      "['<f/>']\n",
      "['<f/>']\n",
      "['<e/>']\n",
      "['<rms id=\"3\"/>', '<i id=\"3\"/><e/>', '<rps id=\"3\"/><rpnsub id=\"3\"/>']\n",
      "['<f/>']\n",
      "final tags:\n",
      "john \t<f/>\n",
      "likes \t<rms id=\"3\"/>\n",
      "uh \t<i id=\"3\"/><e/>\n",
      "loves \t<rps id=\"3\"/><rpnsub id=\"3\"/>\n",
      "mary \t<f/>\n"
     ]
    }
   ],
   "source": [
    "# Tag each word incrementally\n",
    "# Notice the incremental diff\n",
    "# Set diff_only to False if you want the whole utterance's tag each time\n",
    "with_pos = False\n",
    "print \"tagging...\"\n",
    "if with_pos:\n",
    "    # if POS is provided use this:\n",
    "    print disf.tag_new_word(\"john\", pos=\"NNP\")\n",
    "    print disf.tag_new_word(\"likes\", pos=\"VBP\")\n",
    "    print disf.tag_new_word(\"uh\", pos=\"UH\")\n",
    "    print disf.tag_new_word(\"loves\", pos=\"VBP\")\n",
    "    print disf.tag_new_word(\"mary\", pos=\"NNP\")\n",
    "else:\n",
    "    # else the internal POS tagger tags the words incrementally\n",
    "    print disf.tag_new_word(\"john\")\n",
    "    print disf.tag_new_word(\"likes\")\n",
    "    print disf.tag_new_word(\"uh\")\n",
    "    print disf.tag_new_word(\"loves\")\n",
    "    print disf.tag_new_word(\"mary\")\n",
    "print \"final tags:\"\n",
    "for w, t in zip(\"john likes uh loves mary\".split(), disf.output_tags):\n",
    "    print w, \"\\t\", t\n",
    "disf.reset()  # resets the whole tagger for new utterance"
   ]
  },
  {
   "cell_type": "code",
   "execution_count": 4,
   "metadata": {
    "collapsed": false
   },
   "outputs": [
    {
     "name": "stdout",
     "output_type": "stream",
     "text": [
      "\n",
      "******************************\n",
      "2. Joint disfluency tagger and utterance semgenter\n",
      "Simple disf tags <e/>, <i/> and repair onsets <rps\n",
      "LSTM simple from Hough and Schlangen EACL 2017\n",
      "Initializing Tagger\n",
      "Processing args from config number 35 ...\n",
      "Intializing model from args...\n",
      "Using the cpu\n",
      "Warning: not using GPU, might be a bit slow\n",
      "\tAdjust Theano config file ($HOME/.theanorc)\n",
      "loading tag to index maps...\n",
      "Initializing model of type lstm ...\n",
      "Loading saved weights from ../deep_disfluency/experiments/035/epoch_6\n",
      "No POS tagger specified,loading default CRF switchboard one\n",
      "No timer specified, using default switchboard one\n",
      "Loading decoder...\n",
      "loading swbd_disf1_uttseg_simple_033 Markov model\n",
      "Markov Model ready mode:\n",
      "constraint only\n"
     ]
    },
    {
     "name": "stderr",
     "output_type": "stream",
     "text": [
      "/home/julian/.local/lib/python2.7/site-packages/sklearn/base.py:311: UserWarning: Trying to unpickle estimator LogisticRegression from version 0.18.1 when using version 0.19.1. This might lead to breaking code or invalid results. Use at your own risk.\n",
      "  UserWarning)\n",
      "/home/julian/.local/lib/python2.7/site-packages/sklearn/base.py:311: UserWarning: Trying to unpickle estimator StandardScaler from version 0.18.1 when using version 0.19.1. This might lead to breaking code or invalid results. Use at your own risk.\n",
      "  UserWarning)\n"
     ]
    }
   ],
   "source": [
    "# More complex set-up:\n",
    "print \"\\n\", \"*\" * 30\n",
    "MESSAGE = \"\"\"2. Joint disfluency tagger and utterance semgenter\n",
    "Simple disf tags <e/>, <i/> and repair onsets <rps\n",
    "LSTM simple from Hough and Schlangen EACL 2017\"\"\"\n",
    "print MESSAGE\n",
    "disf = DeepDisfluencyTagger(\n",
    "        config_file=\"../deep_disfluency/experiments/experiment_configs.csv\",\n",
    "        config_number=35,\n",
    "        saved_model_dir=\"../deep_disfluency/experiments/035/epoch_6\",\n",
    "        use_timing_data=True\n",
    "        )\n"
   ]
  },
  {
   "cell_type": "code",
   "execution_count": 5,
   "metadata": {
    "collapsed": false
   },
   "outputs": [
    {
     "name": "stdout",
     "output_type": "stream",
     "text": [
      "tagging...\n",
      "['<f/><tc/>']\n",
      "['<f/><cc/>']\n",
      "['<e/><i/><cc/>']\n",
      "['<rps id=\"3\"/><cc/>']\n",
      "['<f/><cc/>']\n",
      "['<f/><ct/>', '<f/><tc/>']\n",
      "final tags:\n",
      "john \t<f/><tc/>\n",
      "likes \t<f/><cc/>\n",
      "uh \t<e/><i/><cc/>\n",
      "loves \t<rps id=\"3\"/><cc/>\n",
      "mary \t<f/><ct/>\n",
      "yeah \t<f/><tc/>\n"
     ]
    }
   ],
   "source": [
    "print \"tagging...\"\n",
    "print disf.tag_new_word(\"john\", pos=\"NNP\", timing=0.3)\n",
    "print disf.tag_new_word(\"likes\", pos=\"VBP\", timing=0.3)\n",
    "print disf.tag_new_word(\"uh\", pos=\"UH\", timing=0.3)\n",
    "print disf.tag_new_word(\"loves\", pos=\"VBP\", timing=0.3)\n",
    "print disf.tag_new_word(\"mary\", pos=\"NNP\", timing=0.3)\n",
    "print disf.tag_new_word(\"yeah\", pos=\"UH\", timing=2.0)\n",
    "print \"final tags:\"\n",
    "for w, t in zip(\"john likes uh loves mary yeah\".split(), disf.output_tags):\n",
    "    print w, \"\\t\", t\n",
    "disf.reset()  # resets the whole tagger for next dialogue or turn"
   ]
  },
  {
   "cell_type": "code",
   "execution_count": 6,
   "metadata": {
    "collapsed": false
   },
   "outputs": [
    {
     "name": "stdout",
     "output_type": "stream",
     "text": [
      "\n",
      "******************************\n",
      "3. Joint disfluency tagger and utterance semgenter\"\n",
      "Full complex tag set with disfluency structure\"\n",
      "LSTM complex from Hough and Schlangen EACL 2017\n",
      "Initializing Tagger\n",
      "Processing args from config number 36 ...\n",
      "Intializing model from args...\n",
      "Using the cpu\n",
      "Warning: not using GPU, might be a bit slow\n",
      "\tAdjust Theano config file ($HOME/.theanorc)\n",
      "loading tag to index maps...\n",
      "Initializing model of type lstm ...\n",
      "Loading saved weights from ../deep_disfluency/experiments/036/epoch_15\n",
      "No POS tagger specified,loading default CRF switchboard one\n",
      "No timer specified, using default switchboard one\n",
      "Loading decoder...\n",
      "loading swbd_disf1_uttseg_034 Markov model\n",
      "Markov Model ready mode:\n",
      "constraint only\n"
     ]
    }
   ],
   "source": [
    "print \"\\n\", \"*\" * 30\n",
    "MESSAGE = \"\"\"3. Joint disfluency tagger and utterance semgenter\"\n",
    "Full complex tag set with disfluency structure\"\n",
    "LSTM complex from Hough and Schlangen EACL 2017\"\"\"\n",
    "print MESSAGE\n",
    "disf = DeepDisfluencyTagger(\n",
    "    config_file=\"../deep_disfluency/experiments/experiment_configs.csv\",\n",
    "    config_number=36,\n",
    "    saved_model_dir=\"../deep_disfluency/experiments/036/epoch_15\",\n",
    "    use_timing_data=True\n",
    "    )"
   ]
  },
  {
   "cell_type": "code",
   "execution_count": 7,
   "metadata": {
    "collapsed": false
   },
   "outputs": [
    {
     "name": "stdout",
     "output_type": "stream",
     "text": [
      "tagging...\n",
      "['<f/><tc/>']\n",
      "['<e/><cc/>']\n",
      "['<rms id=\"2\"/><rms id=\"1\"/><tc/>', '<rm id=\"2\"/><rps id=\"1\"/><rpnsub id=\"1\"/><cc/>', '<rps id=\"2\"/><rpnsub id=\"2\"/><cc/>']\n",
      "['<f/><cc/>']\n",
      "['<f/><cc/>']\n",
      "['<f/><ct/>', '<f/><tt/>']\n",
      "final tags:\n",
      "i \t<rms id=\"2\"/><rms id=\"1\"/><tc/>\n",
      "uh \t<rm id=\"2\"/><rps id=\"1\"/><rpnsub id=\"1\"/><cc/>\n",
      "i \t<rps id=\"2\"/><rpnsub id=\"2\"/><cc/>\n",
      "love \t<f/><cc/>\n",
      "mary \t<f/><ct/>\n",
      "yeah \t<f/><tt/>\n"
     ]
    }
   ],
   "source": [
    "print \"tagging...\"\n",
    "print disf.tag_new_word(\"i\", pos=\"PRP\", timing=0.3)\n",
    "print disf.tag_new_word(\"uh\", pos=\"UH\", timing=0.3)\n",
    "print disf.tag_new_word(\"i\", pos=\"PRP\", timing=0.3)\n",
    "print disf.tag_new_word(\"love\", pos=\"VBP\", timing=0.3)\n",
    "print disf.tag_new_word(\"mary\", pos=\"NNP\", timing=0.3)\n",
    "print disf.tag_new_word(\"yeah\", pos=\"UH\", timing=2.0)\n",
    "print \"final tags:\"\n",
    "for w, t in zip(\"i uh i love mary yeah\".split(), disf.output_tags):\n",
    "    print w, \"\\t\", t\n",
    "disf.reset()  # resets the whole tagger"
   ]
  },
  {
   "cell_type": "code",
   "execution_count": null,
   "metadata": {
    "collapsed": true
   },
   "outputs": [],
   "source": []
  },
  {
   "cell_type": "code",
   "execution_count": null,
   "metadata": {
    "collapsed": true
   },
   "outputs": [],
   "source": []
  }
 ],
 "metadata": {
  "kernelspec": {
   "display_name": "Python 2",
   "language": "python",
   "name": "python2"
  },
  "language_info": {
   "codemirror_mode": {
    "name": "ipython",
    "version": 2
   },
   "file_extension": ".py",
   "mimetype": "text/x-python",
   "name": "python",
   "nbconvert_exporter": "python",
   "pygments_lexer": "ipython2",
   "version": "2.7.12"
  }
 },
 "nbformat": 4,
 "nbformat_minor": 0
}
